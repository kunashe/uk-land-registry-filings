{
    "cells": [
        {
            "cell_type": "code",
            "execution_count": 22,
            "source": [
                "with open(r\"C:\\Users\\kunas\\Documents\\work_in_progress\\local\\docker-images\\esmee\\dai\\orbital-witness\\pages\\pg_0068.pdf.txt\",\"r\") as f:\r\n",
                "    lines = f.read()"
            ],
            "outputs": [],
            "metadata": {}
        },
        {
            "cell_type": "code",
            "execution_count": 23,
            "source": [
                "import re"
            ],
            "outputs": [],
            "metadata": {}
        },
        {
            "cell_type": "code",
            "execution_count": 24,
            "source": [
                "import pandas as pd"
            ],
            "outputs": [],
            "metadata": {}
        },
        {
            "cell_type": "code",
            "execution_count": 25,
            "source": [
                "lines = lines.strip().split(\"\\n\")[:-2]"
            ],
            "outputs": [],
            "metadata": {}
        },
        {
            "cell_type": "code",
            "execution_count": 27,
            "source": [
                "\r\n",
                "text = []\r\n",
                "index = []\r\n",
                "\r\n",
                "for row,line in enumerate(lines):\r\n",
                "    \r\n",
                "    span = line[0:6]\r\n",
                "    \r\n",
                "    if re.search(\"^[0-9]\",str(span)):\r\n",
                "    \r\n",
                "        text.append(span.strip())\r\n",
                "        index.append(row)\r\n",
                "        \r\n",
                "index.append(len(lines))"
            ],
            "outputs": [],
            "metadata": {}
        },
        {
            "cell_type": "code",
            "execution_count": 58,
            "source": [
                "char_range = zip(index,index[1:len(index)])\r\n",
                "cells = []\r\n",
                "\r\n",
                "rows = {}\r\n",
                "\r\n",
                "rows[\"entry\"] = []\r\n",
                "rows[\"registration_date\"] = []\r\n",
                "rows[\"property_description\"] = []\r\n",
                "rows[\"lease_term_date\"] = []\r\n",
                "rows[\"title\"] = []\r\n",
                "rows[\"notes\"] = []\r\n",
                "\r\n",
                "cell_1 = []\r\n",
                "cell_3 = []\r\n",
                "\r\n",
                "for j,line in enumerate(lines[7:index[0]]):\r\n",
                "        \r\n",
                "    cell_1.append(line[6:22].strip())\r\n",
                "    \r\n",
                "    cell_3.append(line[51:70].strip())\r\n",
                "        \r\n",
                "rows[\"entry\"].append(\"-1\")\r\n",
                "rows[\"registration_date\"].append(\" \".join(cell_1))\r\n",
                "rows[\"property_description\"].append(\"\")\r\n",
                "rows[\"lease_term_date\"].append(\" \".join(cell_3))\r\n",
                "rows[\"title\"].append(\"\")\r\n",
                "rows[\"notes\"].append(\"\")\r\n",
                "\r\n",
                "for a,b in char_range:\r\n",
                "    \r\n",
                "    cell_0 = []\r\n",
                "    cell_1 = []\r\n",
                "    cell_2 = []\r\n",
                "    cell_3 = []\r\n",
                "    cell_4 = []\r\n",
                "    cell_5 = []\r\n",
                "    \r\n",
                "    for i,line in enumerate(lines):\r\n",
                "                    \r\n",
                "        if i >= a and i < b:\r\n",
                "            \r\n",
                "            cell_0.append(line[0:5].strip())\r\n",
                "            \r\n",
                "            reg_date = line[6:22].strip()\r\n",
                "            \r\n",
                "            cell_1.append(reg_date)\r\n",
                "            \r\n",
                "            if re.search(\"NOTE\\:\",reg_date):\r\n",
                "                note = \"\".join(lines[i:b])\r\n",
                "\r\n",
                "            else:\r\n",
                "                note = \"\"\r\n",
                "            \r\n",
                "            cell_2.append(line[23:50].strip())\r\n",
                "            cell_3.append(line[51:70].strip())\r\n",
                "            cell_4.append(line[72:].strip())\r\n",
                "            cell_5.append(note)\r\n",
                "     \r\n",
                "    notes = \" \".join(cell_5).strip()\r\n",
                "    rows[\"entry\"].append(\" \".join(cell_0).strip())\r\n",
                "    rows[\"registration_date\"].append(\" \".join(cell_1))\r\n",
                "    \r\n",
                "    if not(notes == \"\"):\r\n",
                "        rows[\"property_description\"].append(\" \".join(cell_2[:4]).strip())\r\n",
                "        rows[\"lease_term_date\"].append(\" \".join(cell_3[:4]))\r\n",
                "        rows[\"title\"].append(\" \".join(cell_4[:4]).strip())\r\n",
                "    else:\r\n",
                "        rows[\"property_description\"].append(\" \".join(cell_2).strip())\r\n",
                "        rows[\"lease_term_date\"].append(\" \".join(cell_3))\r\n",
                "        rows[\"title\"].append(\" \".join(cell_4).strip())\r\n",
                "    \r\n",
                "    rows[\"notes\"].append(notes)\r\n",
                "    "
            ],
            "outputs": [],
            "metadata": {}
        },
        {
            "cell_type": "code",
            "execution_count": 59,
            "source": [
                "registry = pd.DataFrame(rows)"
            ],
            "outputs": [],
            "metadata": {}
        },
        {
            "cell_type": "code",
            "execution_count": 47,
            "source": [
                "registry.to_csv(\"68.csv\",index=False,header=[\"Entry\",\"Registration date\",\"Property description\",\"Date of lease and term\",\"Lessee's title\",\"Notes\"])"
            ],
            "outputs": [],
            "metadata": {}
        },
        {
            "cell_type": "code",
            "execution_count": 60,
            "source": [
                "import os"
            ],
            "outputs": [],
            "metadata": {}
        },
        {
            "cell_type": "code",
            "execution_count": 63,
            "source": [
                "fn_csv = os.path.basename(\"'pages\\\\pg_0004.pdf.txt'\").replace(\".pdf.txt\",\"\")\r\n",
                "\r\n",
                "fn_csv"
            ],
            "outputs": [
                {
                    "output_type": "execute_result",
                    "data": {
                        "text/plain": [
                            "\"pg_0004'\""
                        ]
                    },
                    "metadata": {},
                    "execution_count": 63
                }
            ],
            "metadata": {}
        },
        {
            "cell_type": "code",
            "execution_count": 104,
            "source": [
                "df = pd.read_csv(r\"C:\\Users\\kunas\\Documents\\work_in_progress\\local\\docker-images\\esmee\\dai\\orbital-witness\\land-registry.csv\")"
            ],
            "outputs": [],
            "metadata": {}
        },
        {
            "cell_type": "code",
            "execution_count": 105,
            "source": [
                "for i,row in enumerate(df[\"Entry\"]):\r\n",
                "    try:\r\n",
                "        if row == -1:\r\n",
                "            df.loc[i-1,\"Registration date\"] = f\"{df['Registration date'][i-1]}  {df['Registration date'][i]}\"\r\n",
                "            df.loc[i-1,\"Date of lease and term\"] = f\"{df['Date of lease and term'][i-1]} {df['Date of lease and term'][i]}\"\r\n",
                "    except Exception as e:\r\n",
                "        print(e)\r\n",
                "\r\n",
                "df.drop(df[df[\"Entry\"] == -1].index,inplace=True)"
            ],
            "outputs": [
                {
                    "output_type": "stream",
                    "name": "stdout",
                    "text": [
                        "-1\n"
                    ]
                }
            ],
            "metadata": {}
        },
        {
            "cell_type": "code",
            "execution_count": 96,
            "source": [
                "df[\"Registration date\"][10]"
            ],
            "outputs": [
                {
                    "output_type": "execute_result",
                    "data": {
                        "text/plain": [
                            "'05.01.2010 Edged and numbered 4 in blue (part of)'"
                        ]
                    },
                    "metadata": {},
                    "execution_count": 96
                }
            ],
            "metadata": {}
        },
        {
            "cell_type": "code",
            "execution_count": null,
            "source": [],
            "outputs": [],
            "metadata": {}
        }
    ],
    "metadata": {
        "orig_nbformat": 4,
        "language_info": {
            "name": "python",
            "version": "3.7.6",
            "mimetype": "text/x-python",
            "codemirror_mode": {
                "name": "ipython",
                "version": 3
            },
            "pygments_lexer": "ipython3",
            "nbconvert_exporter": "python",
            "file_extension": ".py"
        },
        "kernelspec": {
            "name": "python3",
            "display_name": "Python 3.7.6 64-bit"
        },
        "interpreter": {
            "hash": "7836243cfc91066d5a5a84064b929acaeec2935d5551e84261ff5abd4e1ace73"
        }
    },
    "nbformat": 4,
    "nbformat_minor": 2
}